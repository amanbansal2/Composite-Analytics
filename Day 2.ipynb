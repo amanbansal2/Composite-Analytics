{
 "cells": [
  {
   "cell_type": "code",
   "execution_count": 1,
   "id": "da9cb088",
   "metadata": {},
   "outputs": [
    {
     "name": "stdout",
     "output_type": "stream",
     "text": [
      "%pylab is deprecated, use %matplotlib inline and import the required libraries.\n",
      "Populating the interactive namespace from numpy and matplotlib\n"
     ]
    }
   ],
   "source": [
    "# Repo link : https://github.com/ShubhInfotech-Bhilai/Probability-and-Statistics-in-Data-Science-Using-Python/blob/master/06-Random%20variable%20and%20variance/Variance.ipynb\n",
    "\n",
    "\n",
    "%pylab inline\n",
    "import numpy as np"
   ]
  },
  {
   "cell_type": "code",
   "execution_count": 3,
   "id": "6a1d7721",
   "metadata": {},
   "outputs": [
    {
     "data": {
      "text/plain": [
       "array([[2., 2., 4.],\n",
       "       [1., 1., 2.]])"
      ]
     },
     "execution_count": 3,
     "metadata": {},
     "output_type": "execute_result"
    }
   ],
   "source": [
    "#### We start with positive weights that don't sum to 1\n",
    "\n",
    "P=np.array([[2.,2,4],[1,1,2]])\n",
    "P2=copy(P)\n",
    "P"
   ]
  },
  {
   "cell_type": "code",
   "execution_count": 4,
   "id": "3a91c25e",
   "metadata": {},
   "outputs": [
    {
     "name": "stdout",
     "output_type": "stream",
     "text": [
      "the sum is  12.0\n"
     ]
    },
    {
     "data": {
      "text/plain": [
       "array([[0.16666667, 0.16666667, 0.33333333],\n",
       "       [0.08333333, 0.08333333, 0.16666667]])"
      ]
     },
     "execution_count": 4,
     "metadata": {},
     "output_type": "execute_result"
    }
   ],
   "source": [
    "# We then normalize the weights\n",
    "# using Pure Python\n",
    "\n",
    "#Compute the sum\n",
    "s=0\n",
    "for i in range(shape(P)[0]):\n",
    "    for j in range(shape(P)[1]):\n",
    "        s+=P[i,j]\n",
    "print('the sum is ',s)\n",
    "#divide by the sum\n",
    "for i in range(shape(P)[0]):\n",
    "    for j in range(shape(P)[1]):\n",
    "        P[i,j] /= s\n",
    "P"
   ]
  },
  {
   "cell_type": "code",
   "execution_count": 8,
   "id": "2884be30",
   "metadata": {},
   "outputs": [
    {
     "name": "stdout",
     "output_type": "stream",
     "text": [
      "Hi\n",
      "Hi\n",
      "Hi\n",
      "Hi\n",
      "Hi\n",
      "Hi\n"
     ]
    }
   ],
   "source": [
    "##Check whether  and  are independent\n",
    "##If they are independent then the outer product and P should be equal.\n",
    "\n",
    "# The pure python way\n",
    "Px=[0.]*shape(P)[1]\n",
    "Py=[0.]*shape(P)[0]\n",
    "\n",
    "for i in range(len(Px)):\n",
    "    for j in range(len(Py)):\n",
    "        Px[i]+=P[j,i]\n",
    "        Py[j]+=P[j,i]\n",
    "\n",
    "for i in range(len(Px)):\n",
    "    for j in range(len(Py)):\n",
    "        if Px[i]*Py[j] != P[j,i]:\n",
    "            print(\"Px[%d]*Py[%d] != P[%d,%d] ::::: %5.3f*%5.3f = %5.3f != %5.3f\"%(i,j,j,i,Px[i],Py[j],Px[i]*Py[j],P[j,i]))\n",
    "        else:\n",
    "            print(\"Hi\") # both the arrays are same"
   ]
  },
  {
   "cell_type": "code",
   "execution_count": 14,
   "id": "abba626a",
   "metadata": {},
   "outputs": [],
   "source": [
    "#Python function for sqaure root\n",
    "\n",
    "P=[8,9,8,9,9,2,3,7]\n",
    "\n",
    "\n",
    "\n",
    "def sq_list(ListX):\n",
    "    return (np.array(P)**2)"
   ]
  },
  {
   "cell_type": "code",
   "execution_count": 15,
   "id": "837b31fd",
   "metadata": {},
   "outputs": [
    {
     "data": {
      "text/plain": [
       "array([64, 81, 64, 81, 81,  4,  9, 49], dtype=int32)"
      ]
     },
     "execution_count": 15,
     "metadata": {},
     "output_type": "execute_result"
    }
   ],
   "source": [
    "sq_list(P)"
   ]
  },
  {
   "cell_type": "code",
   "execution_count": 16,
   "id": "7a0446ad",
   "metadata": {},
   "outputs": [
    {
     "ename": "NameError",
     "evalue": "name 'x' is not defined",
     "output_type": "error",
     "traceback": [
      "\u001b[1;31m---------------------------------------------------------------------------\u001b[0m",
      "\u001b[1;31mNameError\u001b[0m                                 Traceback (most recent call last)",
      "Input \u001b[1;32mIn [16]\u001b[0m, in \u001b[0;36m<cell line: 8>\u001b[1;34m()\u001b[0m\n\u001b[0;32m      7\u001b[0m Ex \u001b[38;5;241m=\u001b[39m \u001b[38;5;241m0\u001b[39m\n\u001b[0;32m      8\u001b[0m \u001b[38;5;28;01mfor\u001b[39;00m i \u001b[38;5;129;01min\u001b[39;00m \u001b[38;5;28mrange\u001b[39m(\u001b[38;5;241m3\u001b[39m):\n\u001b[1;32m----> 9\u001b[0m     Ex\u001b[38;5;241m+\u001b[39m\u001b[38;5;241m=\u001b[39mPx[i]\u001b[38;5;241m*\u001b[39m\u001b[43mx\u001b[49m[i]\n\u001b[0;32m     10\u001b[0m Ey \u001b[38;5;241m=\u001b[39m \u001b[38;5;241m0\u001b[39m\n\u001b[0;32m     11\u001b[0m \u001b[38;5;28;01mfor\u001b[39;00m i \u001b[38;5;129;01min\u001b[39;00m \u001b[38;5;28mrange\u001b[39m(\u001b[38;5;241m2\u001b[39m):\n",
      "\u001b[1;31mNameError\u001b[0m: name 'x' is not defined"
     ]
    }
   ],
   "source": [
    "##Calculating the mean and standard deviation\n",
    "\n",
    "\n",
    "\n",
    "from math import sqrt\n",
    "#The python way\n",
    "Ex = 0\n",
    "for i in range(3):\n",
    "    Ex+=Px[i]*x[i]\n",
    "Ey = 0\n",
    "for i in range(2):\n",
    "    Ey+=Py[i]*y[i]\n",
    "\n",
    "varx = 0\n",
    "for i in range(3):\n",
    "    varx+=Px[i]*(x[i] - Ex)**2\n",
    "stdx = sqrt(varx)\n",
    "\n",
    "vary = 0\n",
    "for i in range(2):\n",
    "    vary+=Py[i]*(y[i] - Ey)**2\n",
    "stdy = sqrt(vary)\n",
    "\n",
    "Ex,Ey,stdx,stdy"
   ]
  },
  {
   "cell_type": "code",
   "execution_count": 18,
   "id": "171aeb67",
   "metadata": {},
   "outputs": [
    {
     "name": "stdout",
     "output_type": "stream",
     "text": [
      "2.6666666666666665\n",
      "1.632993161855452\n"
     ]
    }
   ],
   "source": [
    "#Assigment 1 - Calculate variance standard deviation using Python function\n",
    "\n",
    "def var_sd(listX):\n",
    "    import numpy as np\n",
    "    from math import sqrt\n",
    "    listX = np.array(listX)\n",
    "    m = listX.mean()\n",
    "    n = len(listX)\n",
    "    num = np.repeat(0,len(listX))\n",
    "    for i in range(0,n):\n",
    "        num[i] = (listX[i]-m)**2\n",
    "    var = sum(num)/n\n",
    "    sd = sqrt(var)\n",
    "    return(var,sd)\n",
    "\n",
    "num_list = [1,2,3,4,5,6]\n",
    "v,s = var_sd(num_list)\n",
    "print(v)\n",
    "   \n",
    "print(s)\n",
    "   "
   ]
  },
  {
   "cell_type": "code",
   "execution_count": 22,
   "id": "d49a38d8",
   "metadata": {},
   "outputs": [],
   "source": [
    "#Assignment 2 - Calculate the skewness\n",
    "\n",
    "def average(listX):\n",
    "    get_sum = sum(listX)\n",
    "    n = len(listX)\n",
    "    average= get_sum/n\n",
    "    return(average)\n",
    "\n",
    "def mode(listX):\n",
    "    from scipy.stats import mode\n",
    "    md = mode(listX)\n",
    "    return(md[0])\n",
    "\n",
    "def std_dev(listX):\n",
    "    import numpy as np\n",
    "    from math import sqrt\n",
    "    listX = np.array(listX)\n",
    "    m = listX.mean()\n",
    "    n = len(listX)\n",
    "    num = np.repeat(0,len(listX))\n",
    "    for i in range(0,n):\n",
    "        num[i] = (listX[i]-m)**2\n",
    "    var = sum(num)/n\n",
    "    sd = sqrt(var)\n",
    "    return(sd)\n",
    "\n",
    "def skewness(pop):\n",
    "    avg = average(pop)\n",
    "    md = mode(pop)\n",
    "    sd = std_dev(pop)\n",
    "    skewness = (avg-md)/sd\n",
    "    return(int(skewness))\n",
    "    \n",
    "    population = np.random.normal(loc=0,scale=1,size=1000)\n",
    "    print(skewness(population))"
   ]
  },
  {
   "cell_type": "code",
   "execution_count": 27,
   "id": "979a3f6f",
   "metadata": {},
   "outputs": [
    {
     "name": "stderr",
     "output_type": "stream",
     "text": [
      "C:\\Users\\amanbansal2\\Anaconda3\\lib\\site-packages\\seaborn\\_decorators.py:36: FutureWarning: Pass the following variables as keyword args: x, y. From version 0.12, the only valid positional argument will be `data`, and passing other arguments without an explicit keyword will result in an error or misinterpretation.\n",
      "  warnings.warn(\n"
     ]
    },
    {
     "data": {
      "image/png": "[encoded data removed]",
      "text/plain": [
       "<Figure size 432x288 with 1 Axes>"
      ]
     },
     "metadata": {
      "needs_background": "light"
     },
     "output_type": "display_data"
    }
   ],
   "source": [
    "import numpy as np\n",
    "import seaborn as sns\n",
    "import matplotlib.pyplot as plt\n",
    "x=np.random.randint(1,10,20)\n",
    "y=x+np.random.normal(0,1,20)\n",
    "\n",
    "x,y\n",
    "ax=sns.regplot(x,y,ci=80)"
   ]
  },
  {
   "cell_type": "code",
   "execution_count": 33,
   "id": "55015c33",
   "metadata": {},
   "outputs": [
    {
     "name": "stdout",
     "output_type": "stream",
     "text": [
      "t_statistic= -1.7762555771580684 p_value= 0.10942114812489537\n"
     ]
    }
   ],
   "source": [
    "## Assigment 3 \n",
    "##### Paired sample T-test for the following data\n",
    "\n",
    "Before_Course = [44,40,61,52,32,44,70,41,67,72,53,72]\n",
    "After_Course = [53,38,69,57,46,39,73,74,60,78]\n",
    "\n",
    "import pandas as pd\n",
    "import math\n",
    "Data = pd.DataFrame((zip(Before_Course, After_Course)), columns =['Before','After'])\n",
    "Diff=Data['Before']-Data['After']\n",
    "import statistics\n",
    "\n",
    "Mean = statistics.mean(Diff)\n",
    "Stdev=statistics.stdev(Diff, xbar= Mean)\n",
    "n=Data.shape[0]\n",
    "t_statistic=Mean/(Stdev/math.sqrt(n))\n",
    "dof=n-1\n",
    "import scipy.stats\n",
    "\n",
    "p=scipy.stats.t.sf(abs(t_statistic),df=dof)*2\n",
    "print('t_statistic=', t_statistic, 'p_value=', p)\n",
    "\n",
    "###############Result conclusion###################\n",
    "## Since p-value is less than our significance level a=0.05, we reject the null hypothesis"
   ]
  },
  {
   "cell_type": "code",
   "execution_count": 34,
   "id": "af3d4e77",
   "metadata": {},
   "outputs": [],
   "source": [
    "#### chi2 testing ############ Assignment 4\n",
    "## 2 datasets, first is to select the null hypothesis and second is to reject the null hypothesis\n",
    "\n",
    "from scipy.stats import chi2_contingency\n",
    "\n"
   ]
  },
  {
   "cell_type": "markdown",
   "id": "db9f64f8",
   "metadata": {},
   "source": [
    "What does chi2 tell you?\n"
   ]
  },
  {
   "cell_type": "code",
   "execution_count": 36,
   "id": "c616d160",
   "metadata": {},
   "outputs": [
    {
     "name": "stdout",
     "output_type": "stream",
     "text": [
      "4.542228269825232     0.1031971404730939     2      [[223.87343533 266.00834492 240.11821975]\n",
      " [217.12656467 257.99165508 232.88178025]]\n"
     ]
    }
   ],
   "source": [
    "data =[[207,282,241],\n",
    "      [234,242,232]]\n",
    "\n",
    "stat, p, dof1, expt = chi2_contingency(data)\n",
    "\n",
    "print (stat, \"   \", p, \"   \", dof1, \"    \", expt)"
   ]
  },
  {
   "cell_type": "markdown",
   "id": "4636b069",
   "metadata": {},
   "source": [
    "![](https://i.ytimg.com/vi/misMgRRV3jQ/hqdefault.jpg)"
   ]
  },
  {
   "cell_type": "code",
   "execution_count": 38,
   "id": "4712171b",
   "metadata": {},
   "outputs": [
    {
     "data": {
      "text/plain": [
       "'0.4 is fail the test'"
      ]
     },
     "execution_count": 38,
     "metadata": {},
     "output_type": "execute_result"
    }
   ],
   "source": [
    "x=.6\n",
    "output = lambda x : f\"{x} is pass the test\" if x>.5 else f\"{x} is fail the test\"\n",
    "\n",
    "output(.9)\n",
    "output(.5)\n",
    "output(.4)\n"
   ]
  },
  {
   "cell_type": "code",
   "execution_count": 40,
   "id": "f20ba918",
   "metadata": {},
   "outputs": [],
   "source": [
    "## Point Estimation \n",
    "\n",
    "from random import choice\n",
    "import matplotlib.pyplot as plt\n",
    "import numpy as np\n",
    "\n",
    "expected_value = lambda values : sum(values)/len(values)\n",
    "standard_deviation = lambda values, expected_value: np.sqrt(sum([(v - expected_value)**2 for v in values])/len(values))\n",
    "\n"
   ]
  },
  {
   "cell_type": "code",
   "execution_count": 42,
   "id": "3e9932b2",
   "metadata": {},
   "outputs": [
    {
     "name": "stdout",
     "output_type": "stream",
     "text": [
      "overall population:\n",
      "             expected value : 40.000220057557904\n",
      "             standard deviation : 0.9976000876617697\n"
     ]
    }
   ],
   "source": [
    "mu, sigma = 40,1\n",
    "population = np.random.normal(mu, sigma, 100000)\n",
    "mean=expected_value(population)\n",
    "print( '''overall population:\n",
    "             expected value : {0}\n",
    "             standard deviation : {1}'''\n",
    "     .format (mean,standard_deviation(population,mean)))"
   ]
  },
  {
   "cell_type": "code",
   "execution_count": 43,
   "id": "f7ef26ac",
   "metadata": {},
   "outputs": [
    {
     "data": {
      "image/png": "[encoded data removed]",
      "text/plain": [
       "<Figure size 432x288 with 1 Axes>"
      ]
     },
     "metadata": {
      "needs_background": "light"
     },
     "output_type": "display_data"
    }
   ],
   "source": [
    "plt.hist(population, 60, density=True)\n",
    "plt.show()"
   ]
  },
  {
   "cell_type": "code",
   "execution_count": 45,
   "id": "eaf86c0d",
   "metadata": {},
   "outputs": [
    {
     "name": "stdout",
     "output_type": "stream",
     "text": [
      "randomly selected items:\n",
      "            expected value: 40.057913485230294\n",
      "            standard deviation: 0.9145174020537683\n",
      "    \n"
     ]
    },
    {
     "data": {
      "image/png": "[encoded data removed]",
      "text/plain": [
       "<Figure size 432x288 with 1 Axes>"
      ]
     },
     "metadata": {
      "needs_background": "light"
     },
     "output_type": "display_data"
    }
   ],
   "source": [
    "from random import choice\n",
    "randomly_selected_items = [choice(population) for _ in range(50)]\n",
    "\n",
    "mean = expected_value(randomly_selected_items)\n",
    "s_d=standard_deviation(randomly_selected_items, mean)\n",
    "\n",
    "print(\n",
    "    '''randomly selected items:\n",
    "            expected value: {0}\n",
    "            standard deviation: {1}\n",
    "    '''.format(mean, standard_deviation(randomly_selected_items, mean)))\n",
    "plt.hist(randomly_selected_items, 10, density=False)\n",
    "plt.show()"
   ]
  },
  {
   "cell_type": "code",
   "execution_count": null,
   "id": "04309902",
   "metadata": {},
   "outputs": [],
   "source": [
    "########## Reference material used for assignments - \n",
    "###  https://online.stat.psu.edu/statprogram/reviews/statistical-concepts/terminology\n",
    "\n",
    "### Assigment related to Example S.3.2.1 from above reference"
   ]
  },
  {
   "cell_type": "code",
   "execution_count": null,
   "id": "f6adb224",
   "metadata": {},
   "outputs": [],
   "source": []
  }
 ],
 "metadata": {
  "kernelspec": {
   "display_name": "Python 3 (ipykernel)",
   "language": "python",
   "name": "python3"
  },
  "language_info": {
   "codemirror_mode": {
    "name": "ipython",
    "version": 3
   },
   "file_extension": ".py",
   "mimetype": "text/x-python",
   "name": "python",
   "nbconvert_exporter": "python",
   "pygments_lexer": "ipython3",
   "version": "3.9.12"
  }
 },
 "nbformat": 4,
 "nbformat_minor": 5
}
