{
 "cells": [
  {
   "cell_type": "code",
   "execution_count": 8,
   "id": "3cc585df",
   "metadata": {},
   "outputs": [
    {
     "name": "stdout",
     "output_type": "stream",
     "text": [
      "Mean is:3.0\n"
     ]
    }
   ],
   "source": [
    "#Mean\n",
    "\n",
    "n_num = [1,2,3,4,5]\n",
    "n= len(n_num)\n",
    "\n",
    "get_sum = sum(n_num)\n",
    "mean = get_sum / n\n",
    "\n",
    "print (\"Mean is:\" +str(mean))"
   ]
  },
  {
   "cell_type": "code",
   "execution_count": 10,
   "id": "04fc2c64",
   "metadata": {},
   "outputs": [
    {
     "name": "stdout",
     "output_type": "stream",
     "text": [
      "Median is:3\n"
     ]
    }
   ],
   "source": [
    "#Median\n",
    "\n",
    "n_num.sort()\n",
    "\n",
    "if n%2==0:\n",
    "    median1= n_num[n//2]\n",
    "    median2= n_num[n//2 - 1]\n",
    "    median = (median1+median2)/2\n",
    "else:\n",
    "    median = n_num[n//2]\n",
    "print (\"Median is:\" +str(median))\n",
    "    "
   ]
  },
  {
   "cell_type": "code",
   "execution_count": 15,
   "id": "c81f77e9",
   "metadata": {},
   "outputs": [
    {
     "name": "stdout",
     "output_type": "stream",
     "text": [
      "Counter({5: 2, 1: 1, 2: 1, 3: 1, 4: 1})\n",
      "Mode is :5\n"
     ]
    }
   ],
   "source": [
    "#Mode\n",
    "\n",
    "from collections import Counter\n",
    "\n",
    "n_num = [1,2,3,4,5,5]\n",
    "n= len(n_num)\n",
    "\n",
    "data = Counter(n_num)\n",
    "print(data)\n",
    "get_mode = dict(data)\n",
    "mode = [k for k, v in get_mode.items() if v == max(list(data.values()))]\n",
    "\n",
    "if len(mode)==n:\n",
    "    get_mode =\"No mode found\"\n",
    "    \n",
    "else:\n",
    "    get_mode =\"Mode is :\" + ',' .join(map(str,mode))\n",
    "    \n",
    "print(get_mode)\n",
    "\n"
   ]
  },
  {
   "cell_type": "code",
   "execution_count": 24,
   "id": "f2092666",
   "metadata": {},
   "outputs": [
    {
     "name": "stdout",
     "output_type": "stream",
     "text": [
      "3\n",
      "3\n",
      "5\n"
     ]
    }
   ],
   "source": [
    "#Using Inbuilt Libraries\n",
    "\n",
    "import statistics\n",
    "\n",
    "print (statistics.median ([3,5,1,4,2]))\n",
    "print (statistics.mean ([3,5,1,4,2]))\n",
    "print (statistics.mode ([3,5,5,6,5,4,3,1,4,2]))"
   ]
  },
  {
   "cell_type": "code",
   "execution_count": 26,
   "id": "75c9126a",
   "metadata": {},
   "outputs": [
    {
     "name": "stdout",
     "output_type": "stream",
     "text": [
      "    Brand  Price  Year\n",
      "0   Honda     22  2014\n",
      "1    Ford     27  2015\n",
      "2  Toyota     25  2016\n",
      "3    Audi     35  2017\n"
     ]
    }
   ],
   "source": [
    "from pandas import DataFrame\n",
    "\n",
    "Cars = {'Brand':['Honda','Ford','Toyota','Audi'],\n",
    "       'Price':[22,27,25,35],\n",
    "       'Year':[2014,2015,2016,2017]}\n",
    "\n",
    "\n",
    "df = DataFrame (Cars, columns =['Brand','Price','Year'])\n",
    "print(df)"
   ]
  },
  {
   "cell_type": "code",
   "execution_count": 29,
   "id": "a7788250",
   "metadata": {},
   "outputs": [
    {
     "data": {
      "text/html": [
       "<div>\n",
       "<style scoped>\n",
       "    .dataframe tbody tr th:only-of-type {\n",
       "        vertical-align: middle;\n",
       "    }\n",
       "\n",
       "    .dataframe tbody tr th {\n",
       "        vertical-align: top;\n",
       "    }\n",
       "\n",
       "    .dataframe thead th {\n",
       "        text-align: right;\n",
       "    }\n",
       "</style>\n",
       "<table border=\"1\" class=\"dataframe\">\n",
       "  <thead>\n",
       "    <tr style=\"text-align: right;\">\n",
       "      <th></th>\n",
       "      <th>Brand</th>\n",
       "      <th>Price</th>\n",
       "      <th>Year</th>\n",
       "    </tr>\n",
       "  </thead>\n",
       "  <tbody>\n",
       "    <tr>\n",
       "      <th>0</th>\n",
       "      <td>Honda</td>\n",
       "      <td>22</td>\n",
       "      <td>2014</td>\n",
       "    </tr>\n",
       "    <tr>\n",
       "      <th>1</th>\n",
       "      <td>Ford</td>\n",
       "      <td>27</td>\n",
       "      <td>2015</td>\n",
       "    </tr>\n",
       "    <tr>\n",
       "      <th>2</th>\n",
       "      <td>Toyota</td>\n",
       "      <td>25</td>\n",
       "      <td>2016</td>\n",
       "    </tr>\n",
       "    <tr>\n",
       "      <th>3</th>\n",
       "      <td>Audi</td>\n",
       "      <td>35</td>\n",
       "      <td>2017</td>\n",
       "    </tr>\n",
       "  </tbody>\n",
       "</table>\n",
       "</div>"
      ],
      "text/plain": [
       "    Brand  Price  Year\n",
       "0   Honda     22  2014\n",
       "1    Ford     27  2015\n",
       "2  Toyota     25  2016\n",
       "3    Audi     35  2017"
      ]
     },
     "execution_count": 29,
     "metadata": {},
     "output_type": "execute_result"
    }
   ],
   "source": [
    "df['Price'].max()\n",
    "df"
   ]
  },
  {
   "cell_type": "code",
   "execution_count": 31,
   "id": "940a3f82",
   "metadata": {},
   "outputs": [
    {
     "data": {
      "text/plain": [
       "count     4.000000\n",
       "mean     27.250000\n",
       "std       5.560276\n",
       "min      22.000000\n",
       "25%      24.250000\n",
       "50%      26.000000\n",
       "75%      29.000000\n",
       "max      35.000000\n",
       "Name: Price, dtype: float64"
      ]
     },
     "execution_count": 31,
     "metadata": {},
     "output_type": "execute_result"
    }
   ],
   "source": [
    "df['Price'].describe()"
   ]
  },
  {
   "cell_type": "code",
   "execution_count": 12,
   "id": "05b5a628",
   "metadata": {},
   "outputs": [
    {
     "data": {
      "text/plain": [
       "Group    12\n",
       "Score    12\n",
       "dtype: int64"
      ]
     },
     "execution_count": 12,
     "metadata": {},
     "output_type": "execute_result"
    }
   ],
   "source": [
    "import pandas as pd\n",
    "\n",
    "df_test=pd.DataFrame({'Group':['A','A','A','A','A','A','D','D','D','D','D','D'],\n",
    "       'Score':[71,72,73,74,71,70,91,79,75,75,79,76]})\n",
    "\n",
    "df_test.count()"
   ]
  },
  {
   "cell_type": "code",
   "execution_count": 13,
   "id": "b6851a9d",
   "metadata": {},
   "outputs": [
    {
     "data": {
      "text/html": [
       "<div>\n",
       "<style scoped>\n",
       "    .dataframe tbody tr th:only-of-type {\n",
       "        vertical-align: middle;\n",
       "    }\n",
       "\n",
       "    .dataframe tbody tr th {\n",
       "        vertical-align: top;\n",
       "    }\n",
       "\n",
       "    .dataframe thead th {\n",
       "        text-align: right;\n",
       "    }\n",
       "</style>\n",
       "<table border=\"1\" class=\"dataframe\">\n",
       "  <thead>\n",
       "    <tr style=\"text-align: right;\">\n",
       "      <th></th>\n",
       "      <th>Group</th>\n",
       "      <th>Score</th>\n",
       "    </tr>\n",
       "  </thead>\n",
       "  <tbody>\n",
       "    <tr>\n",
       "      <th>6</th>\n",
       "      <td>D</td>\n",
       "      <td>91</td>\n",
       "    </tr>\n",
       "    <tr>\n",
       "      <th>7</th>\n",
       "      <td>D</td>\n",
       "      <td>79</td>\n",
       "    </tr>\n",
       "    <tr>\n",
       "      <th>8</th>\n",
       "      <td>D</td>\n",
       "      <td>75</td>\n",
       "    </tr>\n",
       "    <tr>\n",
       "      <th>9</th>\n",
       "      <td>D</td>\n",
       "      <td>75</td>\n",
       "    </tr>\n",
       "    <tr>\n",
       "      <th>10</th>\n",
       "      <td>D</td>\n",
       "      <td>79</td>\n",
       "    </tr>\n",
       "    <tr>\n",
       "      <th>11</th>\n",
       "      <td>D</td>\n",
       "      <td>76</td>\n",
       "    </tr>\n",
       "  </tbody>\n",
       "</table>\n",
       "</div>"
      ],
      "text/plain": [
       "   Group  Score\n",
       "6      D     91\n",
       "7      D     79\n",
       "8      D     75\n",
       "9      D     75\n",
       "10     D     79\n",
       "11     D     76"
      ]
     },
     "execution_count": 13,
     "metadata": {},
     "output_type": "execute_result"
    }
   ],
   "source": [
    "\n",
    "g1=df_test[df_test['Group']=='A']\n",
    "g2=df_test[df_test['Group']=='D']\n",
    "g2"
   ]
  },
  {
   "cell_type": "code",
   "execution_count": 18,
   "id": "871044c5",
   "metadata": {},
   "outputs": [
    {
     "name": "stdout",
     "output_type": "stream",
     "text": [
      "Ttest_indResult(statistic=-2.8714656818147573, pvalue=0.016626921684792982)\n"
     ]
    },
    {
     "data": {
      "text/plain": [
       "0.016626921684792982"
      ]
     },
     "execution_count": 18,
     "metadata": {},
     "output_type": "execute_result"
    }
   ],
   "source": [
    "#T-test , depends on p-value if less or greater than .5\n",
    "\n",
    "\n",
    "from scipy.stats import ttest_ind\n",
    "\n",
    "\n",
    "result = ttest_ind (g1['Score'],g2['Score'])\n",
    "print (result)\n",
    "result[0]\n",
    "result[1]"
   ]
  },
  {
   "cell_type": "code",
   "execution_count": 31,
   "id": "e0438f0c",
   "metadata": {},
   "outputs": [
    {
     "name": "stdout",
     "output_type": "stream",
     "text": [
      "[[1 2 3 4 5]\n",
      " [4 5 1 2 3]\n",
      " [2 3 5 1 4]]\n"
     ]
    },
    {
     "data": {
      "text/plain": [
       "(3, 5)"
      ]
     },
     "execution_count": 31,
     "metadata": {},
     "output_type": "execute_result"
    }
   ],
   "source": [
    "#Introduction to Numpy (Go through Numpy documentation for all the details)\n",
    "# https://www.w3schools.com/python/numpy/numpy_intro.asp\n",
    "\n",
    "import numpy as np\n",
    "x=[[1,2,3,4,5],[4,5,1,2,3],[2,3,5,1,4]]\n",
    "a=np.array(x)\n",
    "print (a)\n",
    "a.shape          #Dimensions"
   ]
  },
  {
   "cell_type": "code",
   "execution_count": 28,
   "id": "422bffb3",
   "metadata": {},
   "outputs": [
    {
     "data": {
      "text/plain": [
       "array([4, 5, 4, 5, 5, 4])"
      ]
     },
     "execution_count": 28,
     "metadata": {},
     "output_type": "execute_result"
    }
   ],
   "source": [
    "#array transpose\n",
    "\n",
    "a.T\n",
    "\n",
    "a[0:1,0:2]               #Indexing\n",
    "\n"
   ]
  },
  {
   "cell_type": "code",
   "execution_count": 29,
   "id": "e4233a51",
   "metadata": {},
   "outputs": [
    {
     "data": {
      "text/plain": [
       "array([4, 5, 4, 5, 5, 4])"
      ]
     },
     "execution_count": 29,
     "metadata": {},
     "output_type": "execute_result"
    }
   ],
   "source": [
    "a[a>3]\n"
   ]
  },
  {
   "cell_type": "code",
   "execution_count": 33,
   "id": "5132ee08",
   "metadata": {},
   "outputs": [
    {
     "name": "stdout",
     "output_type": "stream",
     "text": [
      "float64\n"
     ]
    }
   ],
   "source": [
    "x=np.array([1.,2.,3.], dtype=np.float64)\n",
    "x1=np.array([1,2,3], dtype=np.int32)\n",
    "x2=np.array([1.,2.,3.], dtype=np.float64)\n",
    "print (x.dtype)\n"
   ]
  },
  {
   "cell_type": "code",
   "execution_count": 38,
   "id": "6363b2d4",
   "metadata": {},
   "outputs": [
    {
     "data": {
      "text/plain": [
       "array([[1, 2, 3],\n",
       "       [4, 5, 4],\n",
       "       [5, 1, 2],\n",
       "       [3, 2, 3],\n",
       "       [5, 1, 4]])"
      ]
     },
     "execution_count": 38,
     "metadata": {},
     "output_type": "execute_result"
    }
   ],
   "source": [
    "a.reshape(5,3)"
   ]
  },
  {
   "cell_type": "code",
   "execution_count": 39,
   "id": "2bdb0d14",
   "metadata": {},
   "outputs": [
    {
     "data": {
      "text/plain": [
       "array([15, 15, 15])"
      ]
     },
     "execution_count": 39,
     "metadata": {},
     "output_type": "execute_result"
    }
   ],
   "source": [
    "np.sum(a,axis=1)"
   ]
  },
  {
   "cell_type": "code",
   "execution_count": 46,
   "id": "078c4b20",
   "metadata": {},
   "outputs": [
    {
     "data": {
      "text/plain": [
       "array([-10,  -9,  -8,  -7,  -6,  -5,  -4,  -3,  -2,  -1,   0,   1,   2,\n",
       "         3,   4,   5,   6,   7,   8,   9,  10,  11,  12,  13,  14,  15,\n",
       "        16,  17,  18,  19])"
      ]
     },
     "execution_count": 46,
     "metadata": {},
     "output_type": "execute_result"
    }
   ],
   "source": [
    "np.array(np.arange(-10,20))\n"
   ]
  },
  {
   "cell_type": "code",
   "execution_count": 44,
   "id": "f78a1d44",
   "metadata": {},
   "outputs": [
    {
     "data": {
      "text/plain": [
       "array([-1.        , -0.77777778, -0.55555556, -0.33333333, -0.11111111,\n",
       "        0.11111111,  0.33333333,  0.55555556,  0.77777778,  1.        ])"
      ]
     },
     "execution_count": 44,
     "metadata": {},
     "output_type": "execute_result"
    }
   ],
   "source": [
    "np.linspace(-1,1,10)"
   ]
  },
  {
   "cell_type": "code",
   "execution_count": null,
   "id": "6634e2c9",
   "metadata": {},
   "outputs": [],
   "source": [
    "# Create a 5*5 matrix from range -1 to +1. Task is to multiply all the -ve numbers to -1 and all the +ve to -2"
   ]
  },
  {
   "cell_type": "code",
   "execution_count": 47,
   "id": "3bf73047",
   "metadata": {},
   "outputs": [
    {
     "data": {
      "text/plain": [
       "120.0"
      ]
     },
     "execution_count": 47,
     "metadata": {},
     "output_type": "execute_result"
    }
   ],
   "source": [
    "#Discrete Probability Distribution\n",
    "\n",
    "from math import factorial\n",
    "\n",
    "factorial(10)/(factorial(3)*factorial(7))\n",
    "\n"
   ]
  },
  {
   "cell_type": "code",
   "execution_count": 48,
   "id": "d7bc24d9",
   "metadata": {},
   "outputs": [
    {
     "data": {
      "text/plain": [
       "0.05739562799999998"
      ]
     },
     "execution_count": 48,
     "metadata": {},
     "output_type": "execute_result"
    }
   ],
   "source": [
    "#Probability Mass Function\n",
    "\n",
    "from scipy.stats import binom\n",
    "\n",
    "binom.pmf(3,10,0.1)"
   ]
  },
  {
   "cell_type": "code",
   "execution_count": 50,
   "id": "14030c75",
   "metadata": {},
   "outputs": [
    {
     "data": {
      "text/plain": [
       "0.9872048015999998"
      ]
     },
     "execution_count": 50,
     "metadata": {},
     "output_type": "execute_result"
    }
   ],
   "source": [
    "sum([binom.pmf(x,10,0.1) for x in range(4)])"
   ]
  },
  {
   "cell_type": "code",
   "execution_count": 51,
   "id": "b3867269",
   "metadata": {},
   "outputs": [
    {
     "data": {
      "image/png": "[encoded data removed]",
      "text/plain": [
       "<Figure size 432x288 with 1 Axes>"
      ]
     },
     "metadata": {
      "needs_background": "light"
     },
     "output_type": "display_data"
    }
   ],
   "source": [
    "#Data Manipulation - Numpy\n",
    "#Data cleaning, filtering - Pandas\n",
    "#Graphical representation - Matplotlib\n",
    "\n",
    "import matplotlib.pyplot as plt\n",
    "\n",
    "plt.bar(range(11), [binom.pmf(x,10,0.1) for x in range(11)])\n",
    "plt.xlabel('k')\n",
    "plt.ylabel('P(X=k)')\n",
    "plt.title('Binomial PMF')\n",
    "plt.show()"
   ]
  },
  {
   "cell_type": "code",
   "execution_count": 53,
   "id": "74dc9112",
   "metadata": {},
   "outputs": [],
   "source": [
    "#Poisson Distribution\n",
    "\n",
    "import numpy as np\n",
    "import matplotlib.pyplot as plt\n",
    "from scipy.stats import poisson"
   ]
  },
  {
   "cell_type": "code",
   "execution_count": 54,
   "id": "990baf19",
   "metadata": {},
   "outputs": [
    {
     "name": "stdout",
     "output_type": "stream",
     "text": [
      "[ 0  1  2  3  4  5  6  7  8  9 10 11 12 13 14 15 16]\n"
     ]
    }
   ],
   "source": [
    "k=np.arange(0,17)\n",
    "print(k)"
   ]
  },
  {
   "cell_type": "code",
   "execution_count": 55,
   "id": "e77dff02",
   "metadata": {},
   "outputs": [
    {
     "data": {
      "text/plain": [
       "array([0.00091, 0.00638, 0.02234, 0.05213, 0.09123, 0.12772, 0.149  ,\n",
       "       0.149  , 0.13038, 0.1014 , 0.07098, 0.04517, 0.02635, 0.01419,\n",
       "       0.00709, 0.00331, 0.00145])"
      ]
     },
     "execution_count": 55,
     "metadata": {},
     "output_type": "execute_result"
    }
   ],
   "source": [
    "pmf=poisson.pmf(k,mu=7)\n",
    "pmf=np.round(pmf,5)\n",
    "pmf"
   ]
  },
  {
   "cell_type": "code",
   "execution_count": 57,
   "id": "6a163ec7",
   "metadata": {},
   "outputs": [
    {
     "name": "stdout",
     "output_type": "stream",
     "text": [
      "k-value0 has probability = 0.00091\n",
      "k-value1 has probability = 0.00638\n",
      "k-value2 has probability = 0.02234\n",
      "k-value3 has probability = 0.05213\n",
      "k-value4 has probability = 0.09123\n",
      "k-value5 has probability = 0.12772\n",
      "k-value6 has probability = 0.149\n",
      "k-value7 has probability = 0.149\n",
      "k-value8 has probability = 0.13038\n",
      "k-value9 has probability = 0.1014\n",
      "k-value10 has probability = 0.07098\n",
      "k-value11 has probability = 0.04517\n",
      "k-value12 has probability = 0.02635\n",
      "k-value13 has probability = 0.01419\n",
      "k-value14 has probability = 0.00709\n",
      "k-value15 has probability = 0.00331\n",
      "k-value16 has probability = 0.00145\n"
     ]
    }
   ],
   "source": [
    "for val,prob in zip(k,pmf):\n",
    "    print(f\"k-value{val} has probability = {prob}\")"
   ]
  },
  {
   "cell_type": "code",
   "execution_count": 65,
   "id": "ff8f35e4",
   "metadata": {},
   "outputs": [
    {
     "data": {
      "image/png": "[encoded data removed]",
      "text/plain": [
       "<Figure size 432x288 with 1 Axes>"
      ]
     },
     "metadata": {
      "needs_background": "light"
     },
     "output_type": "display_data"
    }
   ],
   "source": [
    "\n",
    "\n",
    "plt.plot(k,pmf,marker='o')\n",
    "plt.xlabel('k')\n",
    "plt.ylabel('Probability')\n",
    "plt.show()"
   ]
  },
  {
   "cell_type": "code",
   "execution_count": 68,
   "id": "c3044033",
   "metadata": {},
   "outputs": [],
   "source": [
    "# Linear Regression with 1 dependent and independent variable\n",
    "\n",
    "\n",
    "\n",
    "rng=np.random.RandomState(1)\n",
    "x=10*rng.rand(50)\n",
    "x\n",
    "y=2*x-5+rng.randn(50)\n",
    "\n",
    "\n"
   ]
  },
  {
   "cell_type": "code",
   "execution_count": 71,
   "id": "5be20c1d",
   "metadata": {},
   "outputs": [
    {
     "name": "stdout",
     "output_type": "stream",
     "text": [
      "4.17022004702574            2.653267393931881\n",
      "7.203244934421581            8.561284227344442\n",
      "0.0011437481734488664            -5.668958634489921\n",
      "3.0233257263183977            1.033986853717894\n",
      "1.4675589081711304            -3.182192532293017\n",
      "0.923385947687978            -2.9188124068069516\n",
      "1.862602113776709            0.3850064046632886\n",
      "3.4556072704304777            2.6532587014382907\n",
      "3.9676747423066994            2.743513932251784\n",
      "5.3881673400335695            4.888705715982303\n",
      "4.191945144032948            2.636731994315058\n",
      "6.852195003967595            10.396844608962937\n",
      "2.0445224973151745            -0.860147250593622\n",
      "8.781174363909454            11.925353081249554\n",
      "0.27387593197926163            -4.261332651374011\n",
      "6.704675101784022            10.509605340046885\n",
      "4.17304802367127            3.466254999824169\n",
      "5.586898284457517            6.790999678622453\n",
      "1.4038693859523377            -1.8920909081394972\n",
      "1.981014890848788            -1.3902200647959428\n",
      "8.007445686755366            9.872373175488592\n",
      "9.682615757193975            14.015888791975073\n",
      "3.1342417815924284            1.0595893298100787\n",
      "6.923226156693141            9.43307550456848\n",
      "8.763891522960384            13.366766459795272\n",
      "8.946066635038473            13.823235351380504\n",
      "0.8504421136977791            -3.013528447350183\n",
      "0.3905478323288236            -3.333763171071625\n",
      "1.698304195645689            -2.3577895497052745\n",
      "8.78142503429413            13.815718223821548\n",
      "0.983468338330501            -2.5201335029209893\n",
      "4.211076250050522            3.1240596649983283\n",
      "9.57889530150502            14.646308749547536\n",
      "5.331652849730171            5.587733986439286\n",
      "6.9187711395047335            9.969171666460895\n",
      "3.1551563100606295            2.8301294365434577\n",
      "6.865009276815837            10.915593960164834\n",
      "8.346256718973729            10.29601710245932\n",
      "0.18288277344191806            -6.078348258545754\n",
      "7.501443149449675            9.498420435952898\n",
      "9.888610889064948            14.937258847577725\n",
      "7.481656543798394            10.839482008713013\n",
      "2.804439920644052            0.9245147885297093\n",
      "7.892793284514886            8.763385353205768\n",
      "1.0322600657764203            -3.2416838810755313\n",
      "4.478935261759052            4.785845166125349\n",
      "9.085955030930956            13.402004797226295\n",
      "2.9361414837367947            1.634294147785614\n",
      "2.877753385863487            0.5331786291166151\n",
      "1.3002857211827767            -2.6001866265644438\n"
     ]
    }
   ],
   "source": [
    "for feature,target in zip(x,y):\n",
    "    print (feature, \"          \", target)"
   ]
  },
  {
   "cell_type": "code",
   "execution_count": 77,
   "id": "7dc4cdab",
   "metadata": {},
   "outputs": [
    {
     "data": {
      "image/png": "[encoded data removed]",
      "text/plain": [
       "<Figure size 432x288 with 1 Axes>"
      ]
     },
     "metadata": {
      "needs_background": "light"
     },
     "output_type": "display_data"
    }
   ],
   "source": [
    "plt.grid()\n",
    "plt.scatter(x,y);"
   ]
  },
  {
   "cell_type": "markdown",
   "id": "437856a5",
   "metadata": {},
   "source": [
    "![](https://www.jmp.com/en_in/statistics-knowledge-portal/what-is-multiple-regression/fitting-multiple-regression-model/_jcr_content/par/styledcontainer_2069/par/lightbox_4130/lightboxImage.img.png/1548704008325.png)"
   ]
  },
  {
   "cell_type": "code",
   "execution_count": 78,
   "id": "fc01718c",
   "metadata": {},
   "outputs": [],
   "source": [
    "# Important \n",
    "#(Study material : https://scikit-learn.org/stable/tutorial/index.html && \n",
    "# https://docs.scipy.org/doc/scipy/tutorial/stats.html)\n",
    "\n",
    "from sklearn.linear_model import LinearRegression"
   ]
  },
  {
   "cell_type": "code",
   "execution_count": 86,
   "id": "52403958",
   "metadata": {},
   "outputs": [
    {
     "data": {
      "text/plain": [
       "<matplotlib.collections.PathCollection at 0x27c2a1b9160>"
      ]
     },
     "execution_count": 86,
     "metadata": {},
     "output_type": "execute_result"
    },
    {
     "data": {
      "image/png": "[encoded data removed]",
      "text/plain": [
       "<Figure size 720x864 with 1 Axes>"
      ]
     },
     "metadata": {
      "needs_background": "light"
     },
     "output_type": "display_data"
    }
   ],
   "source": [
    "# Feature selection (multiple variables)\n",
    "\n",
    "model = LinearRegression(fit_intercept=True)\n",
    "model.fit(x[:,np.newaxis],y)\n",
    "xfit=np.linspace(0,10,1000)\n",
    "yfit=model.predict(xfit[:,np.newaxis])\n",
    "plt.figure(figsize=(10,12))\n",
    "plt.scatter(x,y)\n",
    "plt.scatter(xfit,yfit)"
   ]
  },
  {
   "cell_type": "code",
   "execution_count": 83,
   "id": "444cca5e",
   "metadata": {},
   "outputs": [
    {
     "data": {
      "text/plain": [
       "2.027208810360696"
      ]
     },
     "execution_count": 83,
     "metadata": {},
     "output_type": "execute_result"
    }
   ],
   "source": [
    "model.coef_[0]"
   ]
  },
  {
   "cell_type": "code",
   "execution_count": 84,
   "id": "89bc5c00",
   "metadata": {},
   "outputs": [
    {
     "data": {
      "text/plain": [
       "-4.9985770855532055"
      ]
     },
     "execution_count": 84,
     "metadata": {},
     "output_type": "execute_result"
    }
   ],
   "source": [
    "model.intercept_"
   ]
  },
  {
   "cell_type": "code",
   "execution_count": 95,
   "id": "6598029e",
   "metadata": {},
   "outputs": [
    {
     "data": {
      "text/plain": [
       "(15.169852754913013, 22.68729010222984)"
      ]
     },
     "execution_count": 95,
     "metadata": {},
     "output_type": "execute_result"
    }
   ],
   "source": [
    "# confidence Interval\n",
    "import scipy.stats as st\n",
    "heightdata=[12,13,14,13,15,14,13,16,22,23,26,27,28,29]\n",
    "st.t.interval(alpha=0.95,df=len(heightdata)-1,loc=np.mean(heightdata),scale=st.sem(heightdata))"
   ]
  },
  {
   "cell_type": "code",
   "execution_count": null,
   "id": "29ba7bfc",
   "metadata": {},
   "outputs": [],
   "source": []
  }
 ],
 "metadata": {
  "kernelspec": {
   "display_name": "Python 3 (ipykernel)",
   "language": "python",
   "name": "python3"
  },
  "language_info": {
   "codemirror_mode": {
    "name": "ipython",
    "version": 3
   },
   "file_extension": ".py",
   "mimetype": "text/x-python",
   "name": "python",
   "nbconvert_exporter": "python",
   "pygments_lexer": "ipython3",
   "version": "3.9.12"
  }
 },
 "nbformat": 4,
 "nbformat_minor": 5
}
