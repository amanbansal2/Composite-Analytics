{
 "cells": [
  {
   "cell_type": "code",
   "execution_count": 3,
   "id": "1ff24f64",
   "metadata": {},
   "outputs": [
    {
     "name": "stdout",
     "output_type": "stream",
     "text": [
      "1.6448536269514722\n"
     ]
    }
   ],
   "source": [
    "from scipy.stats import norm\n",
    "p=.95\n",
    "value=norm.ppf(p)\n",
    "print(value)\n",
    "\n"
   ]
  },
  {
   "cell_type": "code",
   "execution_count": null,
   "id": "19ba5eb8",
   "metadata": {},
   "outputs": [],
   "source": [
    "# Assignemt 1 - generate the normal distribution, generating random numbers and storing the data into csv file\n",
    "## read the csv file back\n"
   ]
  },
  {
   "cell_type": "code",
   "execution_count": 6,
   "id": "9e279753",
   "metadata": {},
   "outputs": [
    {
     "name": "stdout",
     "output_type": "stream",
     "text": [
      "reject Ho\n"
     ]
    }
   ],
   "source": [
    "## if datasets are same = null hypothesis\n",
    "## if they are different, we reject null hypothesis (alternative hypothesis)\n",
    "\n",
    "from numpy.random import randn\n",
    "from numpy.random import seed\n",
    "from scipy.stats import ttest_rel\n",
    "seed(1)\n",
    "data1=5*randn(100)+50\n",
    "data2=5*randn(100)+50\n",
    "stat, p=ttest_rel(data1,data2)\n",
    "alpha=0.5\n",
    "if p>alpha:\n",
    "    print(\"fail to reject Ho\")\n",
    "else:\n",
    "    print(\"reject Ho\")"
   ]
  },
  {
   "cell_type": "code",
   "execution_count": 8,
   "id": "5ef5f28b",
   "metadata": {},
   "outputs": [
    {
     "data": {
      "text/plain": [
       "['Solarize_Light2',\n",
       " '_classic_test_patch',\n",
       " '_mpl-gallery',\n",
       " '_mpl-gallery-nogrid',\n",
       " 'bmh',\n",
       " 'classic',\n",
       " 'dark_background',\n",
       " 'fast',\n",
       " 'fivethirtyeight',\n",
       " 'ggplot',\n",
       " 'grayscale',\n",
       " 'seaborn',\n",
       " 'seaborn-bright',\n",
       " 'seaborn-colorblind',\n",
       " 'seaborn-dark',\n",
       " 'seaborn-dark-palette',\n",
       " 'seaborn-darkgrid',\n",
       " 'seaborn-deep',\n",
       " 'seaborn-muted',\n",
       " 'seaborn-notebook',\n",
       " 'seaborn-paper',\n",
       " 'seaborn-pastel',\n",
       " 'seaborn-poster',\n",
       " 'seaborn-talk',\n",
       " 'seaborn-ticks',\n",
       " 'seaborn-white',\n",
       " 'seaborn-whitegrid',\n",
       " 'tableau-colorblind10']"
      ]
     },
     "execution_count": 8,
     "metadata": {},
     "output_type": "execute_result"
    }
   ],
   "source": [
    "### Reference page - https://www.w3schools.com/python/matplotlib_intro.asp\n",
    "\n",
    "from matplotlib import pyplot as plt\n",
    "plt.style.available"
   ]
  },
  {
   "cell_type": "code",
   "execution_count": 10,
   "id": "7255ebcc",
   "metadata": {},
   "outputs": [],
   "source": [
    "plt.style.use('seaborn-bright')"
   ]
  },
  {
   "cell_type": "code",
   "execution_count": 14,
   "id": "54859bf9",
   "metadata": {},
   "outputs": [
    {
     "ename": "NameError",
     "evalue": "name 'df' is not defined",
     "output_type": "error",
     "traceback": [
      "\u001b[1;31m---------------------------------------------------------------------------\u001b[0m",
      "\u001b[1;31mNameError\u001b[0m                                 Traceback (most recent call last)",
      "Input \u001b[1;32mIn [14]\u001b[0m, in \u001b[0;36m<cell line: 7>\u001b[1;34m()\u001b[0m\n\u001b[0;32m      4\u001b[0m devop\u001b[38;5;241m=\u001b[39m[\u001b[38;5;241m3525\u001b[39m,\u001b[38;5;241m3345\u001b[39m,\u001b[38;5;241m3328\u001b[39m,\u001b[38;5;241m3044\u001b[39m,\u001b[38;5;241m3128\u001b[39m,\u001b[38;5;241m3444\u001b[39m,\u001b[38;5;241m3278\u001b[39m,\u001b[38;5;241m3333\u001b[39m,\u001b[38;5;241m3309\u001b[39m,\u001b[38;5;241m3120\u001b[39m]\n\u001b[0;32m      5\u001b[0m javaop\u001b[38;5;241m=\u001b[39m[\u001b[38;5;241m4535\u001b[39m,\u001b[38;5;241m4567\u001b[39m,\u001b[38;5;241m4678\u001b[39m,\u001b[38;5;241m4909\u001b[39m,\u001b[38;5;241m5678\u001b[39m,\u001b[38;5;241m6098\u001b[39m,\u001b[38;5;241m5623\u001b[39m,\u001b[38;5;241m4509\u001b[39m,\u001b[38;5;241m4456\u001b[39m,\u001b[38;5;241m5400\u001b[39m]\n\u001b[1;32m----> 7\u001b[0m z_score\u001b[38;5;241m=\u001b[39mstats\u001b[38;5;241m.\u001b[39mzscore(\u001b[43mdf\u001b[49m[\u001b[38;5;124m'\u001b[39m\u001b[38;5;124mND_random\u001b[39m\u001b[38;5;124m'\u001b[39m])\n\u001b[0;32m      8\u001b[0m agex \u001b[38;5;241m=\u001b[39m \u001b[38;5;28msorted\u001b[39m(\u001b[38;5;28mround\u001b[39m(\u001b[38;5;241m2\u001b[39m\u001b[38;5;241m*\u001b[39mz_score \u001b[38;5;241m+\u001b[39m \u001b[38;5;241m20\u001b[39m,\u001b[38;5;241m0\u001b[39m)\u001b[38;5;241m.\u001b[39mastype(\u001b[38;5;28mint\u001b[39m))\n\u001b[0;32m      9\u001b[0m devop \u001b[38;5;241m=\u001b[39m \u001b[38;5;28msorted\u001b[39m(\u001b[38;5;28mround\u001b[39m(\u001b[38;5;241m200\u001b[39m\u001b[38;5;241m*\u001b[39mz_score \u001b[38;5;241m+\u001b[39m \u001b[38;5;241m3000\u001b[39m,\u001b[38;5;241m0\u001b[39m)\u001b[38;5;241m.\u001b[39mastype(\u001b[38;5;28mint\u001b[39m))\n",
      "\u001b[1;31mNameError\u001b[0m: name 'df' is not defined"
     ]
    }
   ],
   "source": [
    "###  Sort the data in ascending/descending order and plot the graphs and read and plot different types of graphs from w3 school website\n",
    "\n",
    "import scipy.stats as stats\n",
    "\n",
    "agex=[25,26,27,28,34,24,35,38,29,39]\n",
    "devop=[3525,3345,3328,3044,3128,3444,3278,3333,3309,3120]\n",
    "javaop=[4535,4567,4678,4909,5678,6098,5623,4509,4456,5400]\n",
    "\n",
    "z_score=stats.zscore(df['ND_random'])\n",
    "agex = sorted(round(2*z_score + 20,0).astype(int))\n",
    "devop = sorted(round(200*z_score + 3000,0).astype(int))\n",
    "javadop = sorted(round(250*z_score + 3000,0).astype(int))\n",
    "\n",
    "plt.plot(agex,devop,label=\"All devep\")\n",
    "plt.plot(agex,javaop,label=\"All Java\")\n",
    "plt.xlabel(\"Ages\")\n",
    "plt.ylabel(\"Median Salary(USD)\")\n",
    "plt.legend()"
   ]
  },
  {
   "cell_type": "code",
   "execution_count": 21,
   "id": "ef5a4798",
   "metadata": {},
   "outputs": [
    {
     "data": {
      "image/png": "[encoded data removed]",
      "text/plain": [
       "<Figure size 432x288 with 1 Axes>"
      ]
     },
     "metadata": {
      "needs_background": "light"
     },
     "output_type": "display_data"
    }
   ],
   "source": [
    "import numpy as np\n",
    "\n",
    "\n",
    "Groups = ['1','2','3','4']\n",
    "x= [100,200,300,400]\n",
    "y=[10,20,30,40]\n",
    "x_axis=np.arange(len(x))\n",
    "plt.bar(x_axis -0.2, x, 0.4, label = \"Java\")\n",
    "plt.bar(x_axis +0.2, y, 0.4, label=\"Golang\")\n",
    "plt.xticks(x_axis, x)\n",
    "\n",
    "plt.xlabel(\"Technology\")\n",
    "plt.ylabel(\"Number of developer\")\n",
    "plt.legend()\n",
    "plt.show()"
   ]
  },
  {
   "cell_type": "code",
   "execution_count": 25,
   "id": "91fe9fd7",
   "metadata": {},
   "outputs": [
    {
     "name": "stdout",
     "output_type": "stream",
     "text": [
      "Toyota 2022\n",
      "Toyota\n",
      "Maruti 2011\n"
     ]
    }
   ],
   "source": [
    "### Python class\n",
    "\n",
    "class car:\n",
    "    def __init__(self, modelname,year):     ####\"\"\"Constructor  \"\"\"\n",
    "        self.modelname=modelname\n",
    "        self.year=year\n",
    "        \n",
    "    def display(self):\n",
    "        print(self.modelname, self.year)\n",
    "        \n",
    "c1=car(\"Toyota\",2022)\n",
    "c1.display()\n",
    "print(c1.modelname)\n",
    "c2=car(\"Maruti\", 2011)\n",
    "c2.display()"
   ]
  },
  {
   "cell_type": "code",
   "execution_count": 31,
   "id": "d8059725",
   "metadata": {},
   "outputs": [
    {
     "data": {
      "text/plain": [
       "8.06225774829855"
      ]
     },
     "execution_count": 31,
     "metadata": {},
     "output_type": "execute_result"
    }
   ],
   "source": [
    "from math import sqrt\n",
    "\n",
    "class Point:\n",
    "    def __init__(self,x,y=9):\n",
    "        self.x=x\n",
    "        self.y=y\n",
    "    def set_x(self,x):\n",
    "        self.x=x\n",
    "    def set_y(self,y):\n",
    "        self.y=y\n",
    "    def distance (self,oth_x,oth_y):\n",
    "        dist = sqrt ((self.x-oth_x)**2 +(self.y-oth_y)**2)\n",
    "        return dist\n",
    "    \n",
    "    def __str__(self):\n",
    "        return f'{self.x} : {self.y}'\n",
    "    \n",
    "P=Point(5)\n",
    "P.x, P.y\n",
    "\n",
    "P.set_x(17)\n",
    "P.set_y(19)\n",
    "P.distance(10,15)\n",
    "        "
   ]
  },
  {
   "cell_type": "code",
   "execution_count": 33,
   "id": "d41d0083",
   "metadata": {},
   "outputs": [
    {
     "name": "stdout",
     "output_type": "stream",
     "text": [
      "Enter any number4\n",
      "Even number\n",
      "Enter any number7\n",
      "Enter any number3\n",
      "Enter any number2\n",
      "Even number\n",
      "Enter any number3\n"
     ]
    }
   ],
   "source": [
    "for i in range (5):\n",
    "    x = int( input (\"Enter any number\"))\n",
    "    if x%2==0:\n",
    "        print(\"Even number\")"
   ]
  },
  {
   "cell_type": "code",
   "execution_count": 34,
   "id": "82ac6a5a",
   "metadata": {},
   "outputs": [
    {
     "name": "stdout",
     "output_type": "stream",
     "text": [
      "Roger is eating Sweet korn \n",
      "Puffy is eating Fish \n",
      "Roger is barking  Bhow Bhow  \n",
      "Puffy is swatstring  Miyaan Miyaanu  \n"
     ]
    }
   ],
   "source": [
    "##Inheritence\n",
    "\n",
    "class Animal (object):\n",
    "  def __init__(self, name):\n",
    "    self.name=name\n",
    "  def eat(self, food):\n",
    "    print(\"%s is eating %s \" %(self.name,food))\n",
    "\n",
    "\n",
    "class Dog(Animal):\n",
    "  def Barking(self,sound):\n",
    "    print(\"%s is barking  %s \" %(self.name, sound))\n",
    "    \n",
    "class Cat(Animal):\n",
    "  def Miyaun(self,sound):\n",
    "    print(\"%s is swatstring  %s \" %(self.name, sound))\n",
    "\n",
    "d=Dog(\"Roger\")\n",
    "c=Cat(\"Puffy\")\n",
    "\n",
    "d.eat(\"Sweet korn\")\n",
    "c.eat(\"Fish\")\n",
    "d.Barking(\"Bhow Bhow \")\n",
    "c.Miyaun(\"Miyaan Miyaanu \")"
   ]
  },
  {
   "cell_type": "code",
   "execution_count": null,
   "id": "37beeba9",
   "metadata": {},
   "outputs": [],
   "source": [
    "### Machine Leaning Basics\n",
    "\n",
    "###  https://github.com/ShubhInfotech-Bhilai/Implementation-Machine-Learning-Basics-Notes"
   ]
  }
 ],
 "metadata": {
  "kernelspec": {
   "display_name": "Python 3 (ipykernel)",
   "language": "python",
   "name": "python3"
  },
  "language_info": {
   "codemirror_mode": {
    "name": "ipython",
    "version": 3
   },
   "file_extension": ".py",
   "mimetype": "text/x-python",
   "name": "python",
   "nbconvert_exporter": "python",
   "pygments_lexer": "ipython3",
   "version": "3.9.12"
  }
 },
 "nbformat": 4,
 "nbformat_minor": 5
}
