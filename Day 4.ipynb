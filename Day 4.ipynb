{
 "cells": [
  {
   "cell_type": "code",
   "execution_count": 6,
   "id": "452e90b1",
   "metadata": {},
   "outputs": [],
   "source": [
    "import numpy as np\n",
    "import pandas as pd\n",
    "import matplotlib.pyplot as plt"
   ]
  },
  {
   "cell_type": "code",
   "execution_count": 5,
   "id": "88ce5b53",
   "metadata": {},
   "outputs": [
    {
     "name": "stdout",
     "output_type": "stream",
     "text": [
      "[['France' 44.0 72000.0]\n",
      " ['Spain' 27.0 48000.0]\n",
      " ['Germany' 30.0 54000.0]\n",
      " ['Spain' 38.0 61000.0]\n",
      " ['Germany' 40.0 nan]\n",
      " ['France' 35.0 58000.0]\n",
      " ['Spain' nan 52000.0]\n",
      " ['France' 48.0 79000.0]\n",
      " ['Germany' 50.0 83000.0]\n",
      " ['France' 37.0 67000.0]]\n",
      "['No' 'Yes' 'No' 'No' 'Yes' 'Yes' 'No' 'Yes' 'No' 'Yes']\n"
     ]
    }
   ],
   "source": [
    "## Data Preprocessing\n",
    "\n",
    "df = pd.read_csv('C:\\\\Users\\\\amanbansal2\\\\Desktop\\\\Composite Analytics\\\\Machine learning\\\\Machine-Learning-with-Python-and-Scikit-master\\\\Datasets\\\\Data.csv')\n",
    "\n",
    "## independent & dependent var\n",
    "\n",
    "\n",
    "x = df.iloc[:, :-1].values  \n",
    "y = df.iloc[:, -1].values\n",
    "\n",
    "print(x)\n",
    "print(y)"
   ]
  },
  {
   "cell_type": "code",
   "execution_count": 7,
   "id": "40933d47",
   "metadata": {},
   "outputs": [],
   "source": [
    "df = pd.read_csv('C:\\\\Users\\\\amanbansal2\\\\Desktop\\\\Composite Analytics\\\\Machine learning\\\\Machine-Learning-with-Python-and-Scikit-master\\\\Datasets\\\\Salary_Data.csv')"
   ]
  },
  {
   "cell_type": "code",
   "execution_count": 8,
   "id": "d8758f0b",
   "metadata": {},
   "outputs": [
    {
     "data": {
      "text/plain": [
       "LinearRegression()"
      ]
     },
     "execution_count": 8,
     "metadata": {},
     "output_type": "execute_result"
    }
   ],
   "source": [
    "### Linear Regression Model\n",
    "\n",
    "\n",
    "x = df.iloc[:, :-1].values\n",
    "y = df.iloc[:, 1:].values\n",
    "\n",
    "from sklearn.model_selection import train_test_split\n",
    "x_train , x_test , y_train , y_test = train_test_split(x, y, test_size = 0.2, random_state=1)\n",
    "\n",
    "from sklearn.linear_model import LinearRegression\n",
    "regressor = LinearRegression()\n",
    "regressor.fit(x_train, y_train)"
   ]
  },
  {
   "cell_type": "code",
   "execution_count": 9,
   "id": "0733293d",
   "metadata": {},
   "outputs": [
    {
     "data": {
      "image/png": "[encoded data removed]",
      "text/plain": [
       "<Figure size 432x288 with 1 Axes>"
      ]
     },
     "metadata": {
      "needs_background": "light"
     },
     "output_type": "display_data"
    }
   ],
   "source": [
    "y_predictions = regressor.predict(x_test)\n",
    "\n",
    "plt.scatter(x_train, y_train, color = 'red')\n",
    "plt.plot(x_train, regressor.predict(x_train), color = 'blue')\n",
    "plt.title('salary vs experience (Training set)')\n",
    "plt.xlabel('Experience')\n",
    "plt.ylabel('Salary')\n",
    "plt.show()"
   ]
  },
  {
   "cell_type": "code",
   "execution_count": 10,
   "id": "744f1ed6",
   "metadata": {},
   "outputs": [
    {
     "data": {
      "image/png": "[encoded data removed]",
      "text/plain": [
       "<Figure size 432x288 with 1 Axes>"
      ]
     },
     "metadata": {
      "needs_background": "light"
     },
     "output_type": "display_data"
    }
   ],
   "source": [
    "plt.scatter(x_test, y_test, color = 'red')\n",
    "plt.plot(x_train, regressor.predict(x_train), color = 'blue') #regression line will be same for training adn test set\n",
    "plt.title('salary vs experience (Training set)')\n",
    "plt.xlabel('Experience')\n",
    "plt.ylabel('Salary')\n",
    "plt.show()"
   ]
  },
  {
   "cell_type": "code",
   "execution_count": 12,
   "id": "6f74a1db",
   "metadata": {},
   "outputs": [],
   "source": [
    "import statsmodels.api as sm\n",
    "import numpy as np\n",
    "\n",
    "import pandas as pd \n",
    "import matplotlib.pyplot as plt\n",
    "np.random.seed(9823655)\n"
   ]
  },
  {
   "cell_type": "code",
   "execution_count": 13,
   "id": "8322dad3",
   "metadata": {},
   "outputs": [],
   "source": [
    "nsample=100\n",
    "x=np.linspace(0,10,100)\n",
    "x\n",
    "X=0\n"
   ]
  },
  {
   "cell_type": "code",
   "execution_count": 14,
   "id": "30f3f80e",
   "metadata": {},
   "outputs": [
    {
     "data": {
      "text/plain": [
       "(100, 2)"
      ]
     },
     "execution_count": 14,
     "metadata": {},
     "output_type": "execute_result"
    }
   ],
   "source": [
    "X=np.column_stack((x,x**2))\n",
    "beta=np.array([1,0.1,10])\n",
    "e=np.random.normal(size=nsample)\n",
    "X.shape\n"
   ]
  },
  {
   "cell_type": "code",
   "execution_count": 15,
   "id": "b66a86d4",
   "metadata": {},
   "outputs": [
    {
     "data": {
      "text/plain": [
       "array([[1.00000000e+00, 0.00000000e+00, 0.00000000e+00],\n",
       "       [1.00000000e+00, 1.01010101e-01, 1.02030405e-02],\n",
       "       [1.00000000e+00, 2.02020202e-01, 4.08121620e-02],\n",
       "       [1.00000000e+00, 3.03030303e-01, 9.18273646e-02],\n",
       "       [1.00000000e+00, 4.04040404e-01, 1.63248648e-01],\n",
       "       [1.00000000e+00, 5.05050505e-01, 2.55076013e-01],\n",
       "       [1.00000000e+00, 6.06060606e-01, 3.67309458e-01],\n",
       "       [1.00000000e+00, 7.07070707e-01, 4.99948985e-01],\n",
       "       [1.00000000e+00, 8.08080808e-01, 6.52994592e-01],\n",
       "       [1.00000000e+00, 9.09090909e-01, 8.26446281e-01],\n",
       "       [1.00000000e+00, 1.01010101e+00, 1.02030405e+00],\n",
       "       [1.00000000e+00, 1.11111111e+00, 1.23456790e+00],\n",
       "       [1.00000000e+00, 1.21212121e+00, 1.46923783e+00],\n",
       "       [1.00000000e+00, 1.31313131e+00, 1.72431385e+00],\n",
       "       [1.00000000e+00, 1.41414141e+00, 1.99979594e+00],\n",
       "       [1.00000000e+00, 1.51515152e+00, 2.29568411e+00],\n",
       "       [1.00000000e+00, 1.61616162e+00, 2.61197837e+00],\n",
       "       [1.00000000e+00, 1.71717172e+00, 2.94867871e+00],\n",
       "       [1.00000000e+00, 1.81818182e+00, 3.30578512e+00],\n",
       "       [1.00000000e+00, 1.91919192e+00, 3.68329762e+00],\n",
       "       [1.00000000e+00, 2.02020202e+00, 4.08121620e+00],\n",
       "       [1.00000000e+00, 2.12121212e+00, 4.49954086e+00],\n",
       "       [1.00000000e+00, 2.22222222e+00, 4.93827160e+00],\n",
       "       [1.00000000e+00, 2.32323232e+00, 5.39740843e+00],\n",
       "       [1.00000000e+00, 2.42424242e+00, 5.87695133e+00],\n",
       "       [1.00000000e+00, 2.52525253e+00, 6.37690032e+00],\n",
       "       [1.00000000e+00, 2.62626263e+00, 6.89725538e+00],\n",
       "       [1.00000000e+00, 2.72727273e+00, 7.43801653e+00],\n",
       "       [1.00000000e+00, 2.82828283e+00, 7.99918376e+00],\n",
       "       [1.00000000e+00, 2.92929293e+00, 8.58075707e+00],\n",
       "       [1.00000000e+00, 3.03030303e+00, 9.18273646e+00],\n",
       "       [1.00000000e+00, 3.13131313e+00, 9.80512193e+00],\n",
       "       [1.00000000e+00, 3.23232323e+00, 1.04479135e+01],\n",
       "       [1.00000000e+00, 3.33333333e+00, 1.11111111e+01],\n",
       "       [1.00000000e+00, 3.43434343e+00, 1.17947148e+01],\n",
       "       [1.00000000e+00, 3.53535354e+00, 1.24987246e+01],\n",
       "       [1.00000000e+00, 3.63636364e+00, 1.32231405e+01],\n",
       "       [1.00000000e+00, 3.73737374e+00, 1.39679625e+01],\n",
       "       [1.00000000e+00, 3.83838384e+00, 1.47331905e+01],\n",
       "       [1.00000000e+00, 3.93939394e+00, 1.55188246e+01],\n",
       "       [1.00000000e+00, 4.04040404e+00, 1.63248648e+01],\n",
       "       [1.00000000e+00, 4.14141414e+00, 1.71513111e+01],\n",
       "       [1.00000000e+00, 4.24242424e+00, 1.79981635e+01],\n",
       "       [1.00000000e+00, 4.34343434e+00, 1.88654219e+01],\n",
       "       [1.00000000e+00, 4.44444444e+00, 1.97530864e+01],\n",
       "       [1.00000000e+00, 4.54545455e+00, 2.06611570e+01],\n",
       "       [1.00000000e+00, 4.64646465e+00, 2.15896337e+01],\n",
       "       [1.00000000e+00, 4.74747475e+00, 2.25385165e+01],\n",
       "       [1.00000000e+00, 4.84848485e+00, 2.35078053e+01],\n",
       "       [1.00000000e+00, 4.94949495e+00, 2.44975003e+01],\n",
       "       [1.00000000e+00, 5.05050505e+00, 2.55076013e+01],\n",
       "       [1.00000000e+00, 5.15151515e+00, 2.65381084e+01],\n",
       "       [1.00000000e+00, 5.25252525e+00, 2.75890215e+01],\n",
       "       [1.00000000e+00, 5.35353535e+00, 2.86603408e+01],\n",
       "       [1.00000000e+00, 5.45454545e+00, 2.97520661e+01],\n",
       "       [1.00000000e+00, 5.55555556e+00, 3.08641975e+01],\n",
       "       [1.00000000e+00, 5.65656566e+00, 3.19967350e+01],\n",
       "       [1.00000000e+00, 5.75757576e+00, 3.31496786e+01],\n",
       "       [1.00000000e+00, 5.85858586e+00, 3.43230283e+01],\n",
       "       [1.00000000e+00, 5.95959596e+00, 3.55167840e+01],\n",
       "       [1.00000000e+00, 6.06060606e+00, 3.67309458e+01],\n",
       "       [1.00000000e+00, 6.16161616e+00, 3.79655137e+01],\n",
       "       [1.00000000e+00, 6.26262626e+00, 3.92204877e+01],\n",
       "       [1.00000000e+00, 6.36363636e+00, 4.04958678e+01],\n",
       "       [1.00000000e+00, 6.46464646e+00, 4.17916539e+01],\n",
       "       [1.00000000e+00, 6.56565657e+00, 4.31078461e+01],\n",
       "       [1.00000000e+00, 6.66666667e+00, 4.44444444e+01],\n",
       "       [1.00000000e+00, 6.76767677e+00, 4.58014488e+01],\n",
       "       [1.00000000e+00, 6.86868687e+00, 4.71788593e+01],\n",
       "       [1.00000000e+00, 6.96969697e+00, 4.85766758e+01],\n",
       "       [1.00000000e+00, 7.07070707e+00, 4.99948985e+01],\n",
       "       [1.00000000e+00, 7.17171717e+00, 5.14335272e+01],\n",
       "       [1.00000000e+00, 7.27272727e+00, 5.28925620e+01],\n",
       "       [1.00000000e+00, 7.37373737e+00, 5.43720029e+01],\n",
       "       [1.00000000e+00, 7.47474747e+00, 5.58718498e+01],\n",
       "       [1.00000000e+00, 7.57575758e+00, 5.73921028e+01],\n",
       "       [1.00000000e+00, 7.67676768e+00, 5.89327620e+01],\n",
       "       [1.00000000e+00, 7.77777778e+00, 6.04938272e+01],\n",
       "       [1.00000000e+00, 7.87878788e+00, 6.20752984e+01],\n",
       "       [1.00000000e+00, 7.97979798e+00, 6.36771758e+01],\n",
       "       [1.00000000e+00, 8.08080808e+00, 6.52994592e+01],\n",
       "       [1.00000000e+00, 8.18181818e+00, 6.69421488e+01],\n",
       "       [1.00000000e+00, 8.28282828e+00, 6.86052444e+01],\n",
       "       [1.00000000e+00, 8.38383838e+00, 7.02887460e+01],\n",
       "       [1.00000000e+00, 8.48484848e+00, 7.19926538e+01],\n",
       "       [1.00000000e+00, 8.58585859e+00, 7.37169677e+01],\n",
       "       [1.00000000e+00, 8.68686869e+00, 7.54616876e+01],\n",
       "       [1.00000000e+00, 8.78787879e+00, 7.72268136e+01],\n",
       "       [1.00000000e+00, 8.88888889e+00, 7.90123457e+01],\n",
       "       [1.00000000e+00, 8.98989899e+00, 8.08182838e+01],\n",
       "       [1.00000000e+00, 9.09090909e+00, 8.26446281e+01],\n",
       "       [1.00000000e+00, 9.19191919e+00, 8.44913784e+01],\n",
       "       [1.00000000e+00, 9.29292929e+00, 8.63585348e+01],\n",
       "       [1.00000000e+00, 9.39393939e+00, 8.82460973e+01],\n",
       "       [1.00000000e+00, 9.49494949e+00, 9.01540659e+01],\n",
       "       [1.00000000e+00, 9.59595960e+00, 9.20824406e+01],\n",
       "       [1.00000000e+00, 9.69696970e+00, 9.40312213e+01],\n",
       "       [1.00000000e+00, 9.79797980e+00, 9.60004081e+01],\n",
       "       [1.00000000e+00, 9.89898990e+00, 9.79900010e+01],\n",
       "       [1.00000000e+00, 1.00000000e+01, 1.00000000e+02]])"
      ]
     },
     "execution_count": 15,
     "metadata": {},
     "output_type": "execute_result"
    }
   ],
   "source": [
    "X=sm.add_constant(X)\n",
    "X\n"
   ]
  },
  {
   "cell_type": "code",
   "execution_count": 17,
   "id": "c2d87c7a",
   "metadata": {},
   "outputs": [
    {
     "name": "stdout",
     "output_type": "stream",
     "text": [
      "\n",
      "\n",
      "\n",
      "\n",
      "\n",
      "\n",
      "\n",
      "\n",
      "\n",
      "\n",
      "\n",
      "\n",
      "\n",
      "\n",
      "\n",
      "\n",
      "\n",
      "\n",
      "\n",
      "\n",
      "\n",
      "\n",
      "\n",
      "\n",
      "\n",
      "\n",
      "\n",
      "\n",
      "\n",
      "\n",
      "\n",
      "\n",
      "\n",
      "\n",
      "\n",
      "\n",
      "\n",
      "\n",
      "\n",
      "\n",
      "\n",
      "\n",
      "\n",
      "\n",
      "\n",
      "\n",
      "\n",
      "\n",
      "\n",
      "\n",
      "\n",
      "\n",
      "\n",
      "\n",
      "\n",
      "\n",
      "\n",
      "\n",
      "\n",
      "\n",
      "\n",
      "\n",
      "\n",
      "\n",
      "\n",
      "\n",
      "\n",
      "\n",
      "\n",
      "\n",
      "\n",
      "\n",
      "\n",
      "\n",
      "\n",
      "\n",
      "\n",
      "\n",
      "\n",
      "\n",
      "\n",
      "\n",
      "\n",
      "\n",
      "\n",
      "\n",
      "\n",
      "\n",
      "\n",
      "\n",
      "\n",
      "\n",
      "\n",
      "\n",
      "\n",
      "\n",
      "\n",
      "\n",
      "\n",
      "\n",
      "      0         1           2\n",
      "0   1.0   0.00000    0.000000\n",
      "1   1.0   0.10101    0.010203\n",
      "2   1.0   0.20202    0.040812\n",
      "3   1.0   0.30303    0.091827\n",
      "4   1.0   0.40404    0.163249\n",
      "..  ...       ...         ...\n",
      "95  1.0   9.59596   92.082441\n",
      "96  1.0   9.69697   94.031221\n",
      "97  1.0   9.79798   96.000408\n",
      "98  1.0   9.89899   97.990001\n",
      "99  1.0  10.00000  100.000000\n",
      "\n",
      "[100 rows x 3 columns]\n",
      "              0\n",
      "0      1.394254\n",
      "1     -0.004663\n",
      "2      2.935526\n",
      "3      0.464990\n",
      "4      3.512221\n",
      "..          ...\n",
      "95   924.130185\n",
      "96   941.818283\n",
      "97   961.537558\n",
      "98   980.776746\n",
      "99  1001.999306\n",
      "\n",
      "[100 rows x 1 columns]\n"
     ]
    }
   ],
   "source": [
    "## store this x and y in panda frame\n",
    "\n",
    "y=np.dot(X,beta)+e\n",
    "for feature,target in zip(X,y):\n",
    "    print ()\n",
    "\n",
    "import pandas as pd\n",
    " \n",
    "\n",
    "df = pd.DataFrame(X)\n",
    "print(df)\n",
    "\n"
   ]
  },
  {
   "cell_type": "code",
   "execution_count": 18,
   "id": "fce69c34",
   "metadata": {},
   "outputs": [
    {
     "name": "stdout",
     "output_type": "stream",
     "text": [
      "              0\n",
      "0      1.394254\n",
      "1     -0.004663\n",
      "2      2.935526\n",
      "3      0.464990\n",
      "4      3.512221\n",
      "..          ...\n",
      "95   924.130185\n",
      "96   941.818283\n",
      "97   961.537558\n",
      "98   980.776746\n",
      "99  1001.999306\n",
      "\n",
      "[100 rows x 1 columns]\n"
     ]
    }
   ],
   "source": [
    "df1 = pd.DataFrame(y)\n",
    "print(df1)"
   ]
  },
  {
   "cell_type": "code",
   "execution_count": 19,
   "id": "4af08eb8",
   "metadata": {},
   "outputs": [
    {
     "name": "stdout",
     "output_type": "stream",
     "text": [
      "                            OLS Regression Results                            \n",
      "==============================================================================\n",
      "Dep. Variable:                      y   R-squared:                       1.000\n",
      "Model:                            OLS   Adj. R-squared:                  1.000\n",
      "Method:                 Least Squares   F-statistic:                 4.421e+06\n",
      "Date:                Mon, 22 Aug 2022   Prob (F-statistic):          2.83e-241\n",
      "Time:                        11:35:17   Log-Likelihood:                -141.76\n",
      "No. Observations:                 100   AIC:                             289.5\n",
      "Df Residuals:                      97   BIC:                             297.3\n",
      "Df Model:                           2                                         \n",
      "Covariance Type:            nonrobust                                         \n",
      "==============================================================================\n",
      "                 coef    std err          t      P>|t|      [0.025      0.975]\n",
      "------------------------------------------------------------------------------\n",
      "const          1.3013      0.298      4.364      0.000       0.709       1.893\n",
      "x1             0.0712      0.138      0.517      0.607      -0.202       0.345\n",
      "x2             9.9995      0.013    749.767      0.000       9.973      10.026\n",
      "==============================================================================\n",
      "Omnibus:                        4.140   Durbin-Watson:                   2.271\n",
      "Prob(Omnibus):                  0.126   Jarque-Bera (JB):                2.569\n",
      "Skew:                           0.185   Prob(JB):                        0.277\n",
      "Kurtosis:                       2.308   Cond. No.                         144.\n",
      "==============================================================================\n",
      "\n",
      "Notes:\n",
      "[1] Standard Errors assume that the covariance matrix of the errors is correctly specified.\n"
     ]
    }
   ],
   "source": [
    "model=sm.OLS(y,X)\n",
    "result=model.fit()\n",
    "print(result.summary())\n",
    "\n",
    "\n",
    "## reference material - https://vitalflux.com/r-squared-explained-machine-learning/\n",
    "\n"
   ]
  },
  {
   "cell_type": "markdown",
   "id": "0ed7b63a",
   "metadata": {},
   "source": [
    "##MCQ\n",
    "\n",
    "Which of the following is a regression task? (multiple options may be correct)\n",
    "\n",
    "a. Predict the price of a house 10 years after it is constructed.\n",
    "b. Predict if a house will be standing 50 years after it is constructed.\n",
    "c. Predict the weight of food wasted in a restaurant during next month.\n",
    "d. Predict the sales of a new Apple product\n",
    "\n",
    "\n",
    "Ans) A,C & D"
   ]
  },
  {
   "cell_type": "code",
   "execution_count": 20,
   "id": "9f12f066",
   "metadata": {},
   "outputs": [
    {
     "name": "stdout",
     "output_type": "stream",
     "text": [
      "P= 1.000 Q=1.000\n"
     ]
    }
   ],
   "source": [
    "from math import log2\n",
    "def cross_entropy(p,q):\n",
    "  return -sum( [    p[i]*log2(  q[i]  )     for i in range( len(p))] )\n",
    "\n",
    "p=[0.10,0.40,0.50]\n",
    "q=[0.80,0.15,0.05]\n",
    "events=['red','green','blue']\n",
    "print(\"P= %0.3f Q=%0.3f\" % ( sum(p), sum(q)) )\n"
   ]
  },
  {
   "cell_type": "code",
   "execution_count": 21,
   "id": "18e93bfc",
   "metadata": {},
   "outputs": [
    {
     "data": {
      "text/plain": [
       "['DESCR', 'data', 'feature_names', 'frame', 'images', 'target', 'target_names']"
      ]
     },
     "execution_count": 21,
     "metadata": {},
     "output_type": "execute_result"
    }
   ],
   "source": [
    "from sklearn import datasets\n",
    "digits = datasets.load_digits()\n",
    "dir(digits)\n"
   ]
  }
 ],
 "metadata": {
  "kernelspec": {
   "display_name": "Python 3 (ipykernel)",
   "language": "python",
   "name": "python3"
  },
  "language_info": {
   "codemirror_mode": {
    "name": "ipython",
    "version": 3
   },
   "file_extension": ".py",
   "mimetype": "text/x-python",
   "name": "python",
   "nbconvert_exporter": "python",
   "pygments_lexer": "ipython3",
   "version": "3.9.12"
  }
 },
 "nbformat": 4,
 "nbformat_minor": 5
}
